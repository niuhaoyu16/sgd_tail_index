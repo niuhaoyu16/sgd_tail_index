{
  "nbformat": 4,
  "nbformat_minor": 0,
  "metadata": {
    "colab": {
      "name": "SGD data.ipynb",
      "provenance": [],
      "collapsed_sections": [],
      "authorship_tag": "ABX9TyModsbaEuAnfoUdYBQqRror",
      "include_colab_link": true
    },
    "kernelspec": {
      "name": "python3",
      "display_name": "Python 3"
    },
    "accelerator": "GPU"
  },
  "cells": [
    {
      "cell_type": "markdown",
      "metadata": {
        "id": "view-in-github",
        "colab_type": "text"
      },
      "source": [
        "<a href=\"https://colab.research.google.com/github/niuhaoyu16/sgd_tail_index/blob/master/SGD_data.ipynb\" target=\"_parent\"><img src=\"https://colab.research.google.com/assets/colab-badge.svg\" alt=\"Open In Colab\"/></a>"
      ]
    },
    {
      "cell_type": "code",
      "metadata": {
        "id": "aMaYkVvFB-NE",
        "colab_type": "code",
        "colab": {}
      },
      "source": [
        "import torch\n",
        "import numpy as np\n",
        "import pandas as pd\n",
        "\n",
        "%matplotlib inline\n",
        "\n",
        "import matplotlib.pyplot as plt\n"
      ],
      "execution_count": 0,
      "outputs": []
    },
    {
      "cell_type": "code",
      "metadata": {
        "id": "EyiXK2JICCuB",
        "colab_type": "code",
        "colab": {}
      },
      "source": [
        "a= torch.load('training_history.hist') # train\n",
        "#b = torch.load('training_history.hist')"
      ],
      "execution_count": 0,
      "outputs": []
    },
    {
      "cell_type": "code",
      "metadata": {
        "id": "xt-PpO07CJ9f",
        "colab_type": "code",
        "colab": {}
      },
      "source": [
        ""
      ],
      "execution_count": 0,
      "outputs": []
    },
    {
      "cell_type": "code",
      "metadata": {
        "id": "fP-fUht9CvwF",
        "colab_type": "code",
        "outputId": "b3bbd0e8-22ef-45f0-9783-4b7a11bdafda",
        "colab": {
          "base_uri": "https://localhost:8080/",
          "height": 419
        }
      },
      "source": [
        "df = pd.DataFrame(a)\n",
        "df"
      ],
      "execution_count": 16,
      "outputs": [
        {
          "output_type": "execute_result",
          "data": {
            "text/html": [
              "<div>\n",
              "<style scoped>\n",
              "    .dataframe tbody tr th:only-of-type {\n",
              "        vertical-align: middle;\n",
              "    }\n",
              "\n",
              "    .dataframe tbody tr th {\n",
              "        vertical-align: top;\n",
              "    }\n",
              "\n",
              "    .dataframe thead th {\n",
              "        text-align: right;\n",
              "    }\n",
              "</style>\n",
              "<table border=\"1\" class=\"dataframe\">\n",
              "  <thead>\n",
              "    <tr style=\"text-align: right;\">\n",
              "      <th></th>\n",
              "      <th>0</th>\n",
              "      <th>1</th>\n",
              "      <th>2</th>\n",
              "    </tr>\n",
              "  </thead>\n",
              "  <tbody>\n",
              "    <tr>\n",
              "      <th>0</th>\n",
              "      <td>0</td>\n",
              "      <td>2.313228</td>\n",
              "      <td>11.0</td>\n",
              "    </tr>\n",
              "    <tr>\n",
              "      <th>1</th>\n",
              "      <td>1</td>\n",
              "      <td>2.266834</td>\n",
              "      <td>18.0</td>\n",
              "    </tr>\n",
              "    <tr>\n",
              "      <th>2</th>\n",
              "      <td>2</td>\n",
              "      <td>2.255523</td>\n",
              "      <td>19.0</td>\n",
              "    </tr>\n",
              "    <tr>\n",
              "      <th>3</th>\n",
              "      <td>3</td>\n",
              "      <td>2.206094</td>\n",
              "      <td>31.0</td>\n",
              "    </tr>\n",
              "    <tr>\n",
              "      <th>4</th>\n",
              "      <td>4</td>\n",
              "      <td>2.186485</td>\n",
              "      <td>30.0</td>\n",
              "    </tr>\n",
              "    <tr>\n",
              "      <th>...</th>\n",
              "      <td>...</td>\n",
              "      <td>...</td>\n",
              "      <td>...</td>\n",
              "    </tr>\n",
              "    <tr>\n",
              "      <th>17596</th>\n",
              "      <td>17596</td>\n",
              "      <td>0.000175</td>\n",
              "      <td>100.0</td>\n",
              "    </tr>\n",
              "    <tr>\n",
              "      <th>17597</th>\n",
              "      <td>17597</td>\n",
              "      <td>0.000193</td>\n",
              "      <td>100.0</td>\n",
              "    </tr>\n",
              "    <tr>\n",
              "      <th>17598</th>\n",
              "      <td>17598</td>\n",
              "      <td>0.001706</td>\n",
              "      <td>100.0</td>\n",
              "    </tr>\n",
              "    <tr>\n",
              "      <th>17599</th>\n",
              "      <td>17599</td>\n",
              "      <td>0.001124</td>\n",
              "      <td>100.0</td>\n",
              "    </tr>\n",
              "    <tr>\n",
              "      <th>17600</th>\n",
              "      <td>17600</td>\n",
              "      <td>0.001452</td>\n",
              "      <td>100.0</td>\n",
              "    </tr>\n",
              "  </tbody>\n",
              "</table>\n",
              "<p>17601 rows × 3 columns</p>\n",
              "</div>"
            ],
            "text/plain": [
              "           0         1      2\n",
              "0          0  2.313228   11.0\n",
              "1          1  2.266834   18.0\n",
              "2          2  2.255523   19.0\n",
              "3          3  2.206094   31.0\n",
              "4          4  2.186485   30.0\n",
              "...      ...       ...    ...\n",
              "17596  17596  0.000175  100.0\n",
              "17597  17597  0.000193  100.0\n",
              "17598  17598  0.001706  100.0\n",
              "17599  17599  0.001124  100.0\n",
              "17600  17600  0.001452  100.0\n",
              "\n",
              "[17601 rows x 3 columns]"
            ]
          },
          "metadata": {
            "tags": []
          },
          "execution_count": 16
        }
      ]
    },
    {
      "cell_type": "code",
      "metadata": {
        "id": "GMEj7b5GXqAb",
        "colab_type": "code",
        "colab": {
          "base_uri": "https://localhost:8080/",
          "height": 316
        },
        "outputId": "6584c429-f68a-4e17-d8f0-1c490f16f555"
      },
      "source": [
        "plt.figure()\n",
        "plt.plot(df[0], df[1])\n",
        "ax = plt.gca()\n",
        "# Set x logaritmic\n",
        "ax.set_xscale('log')\n",
        "plt.xlabel('Iterations')\n",
        "plt.ylabel('Loss')\n",
        "plt.title('title')\n",
        "#plt.legend()"
      ],
      "execution_count": 20,
      "outputs": [
        {
          "output_type": "execute_result",
          "data": {
            "text/plain": [
              "Text(0.5, 1.0, 'title')"
            ]
          },
          "metadata": {
            "tags": []
          },
          "execution_count": 20
        },
        {
          "output_type": "display_data",
          "data": {
            "image/png": "[encoded data removed]",
            "text/plain": [
              "<Figure size 432x288 with 1 Axes>"
            ]
          },
          "metadata": {
            "tags": [],
            "needs_background": "light"
          }
        }
      ]
    },
    {
      "cell_type": "code",
      "metadata": {
        "id": "FSAKNI9pXqYS",
        "colab_type": "code",
        "colab": {
          "base_uri": "https://localhost:8080/",
          "height": 316
        },
        "outputId": "c41c3ca7-51cc-4f09-c7ef-2a2c80fd5658"
      },
      "source": [
        "plt.figure()\n",
        "plt.plot(df[2])\n",
        "ax = plt.gca()\n",
        "\n",
        "# Set x logaritmic\n",
        "ax.set_xscale('log')\n",
        "#ax.set(xlim=(10,17600))\n",
        "plt.xlabel('Iterations')\n",
        "plt.ylabel('Accuracy(%)')\n",
        "plt.title('title')"
      ],
      "execution_count": 22,
      "outputs": [
        {
          "output_type": "execute_result",
          "data": {
            "text/plain": [
              "Text(0.5, 1.0, 'title')"
            ]
          },
          "metadata": {
            "tags": []
          },
          "execution_count": 22
        },
        {
          "output_type": "display_data",
          "data": {
            "image/png": "[encoded data removed]",
            "text/plain": [
              "<Figure size 432x288 with 1 Axes>"
            ]
          },
          "metadata": {
            "tags": [],
            "needs_background": "light"
          }
        }
      ]
    },
    {
      "cell_type": "code",
      "metadata": {
        "id": "SYmj9PHNXqlQ",
        "colab_type": "code",
        "colab": {}
      },
      "source": [
        "aa = torch.load('evaluation_history_TRAIN.hist')"
      ],
      "execution_count": 0,
      "outputs": []
    },
    {
      "cell_type": "code",
      "metadata": {
        "id": "OpasaY1PMaks",
        "colab_type": "code",
        "colab": {
          "base_uri": "https://localhost:8080/",
          "height": 419
        },
        "outputId": "229de1ea-e508-40a5-ea5e-f2bf07992140"
      },
      "source": [
        "dfa = pd.DataFrame(aa)\n",
        "dfa"
      ],
      "execution_count": 27,
      "outputs": [
        {
          "output_type": "execute_result",
          "data": {
            "text/html": [
              "<div>\n",
              "<style scoped>\n",
              "    .dataframe tbody tr th:only-of-type {\n",
              "        vertical-align: middle;\n",
              "    }\n",
              "\n",
              "    .dataframe tbody tr th {\n",
              "        vertical-align: top;\n",
              "    }\n",
              "\n",
              "    .dataframe thead th {\n",
              "        text-align: right;\n",
              "    }\n",
              "</style>\n",
              "<table border=\"1\" class=\"dataframe\">\n",
              "  <thead>\n",
              "    <tr style=\"text-align: right;\">\n",
              "      <th></th>\n",
              "      <th>0</th>\n",
              "      <th>1</th>\n",
              "      <th>2</th>\n",
              "      <th>3</th>\n",
              "    </tr>\n",
              "  </thead>\n",
              "  <tbody>\n",
              "    <tr>\n",
              "      <th>0</th>\n",
              "      <td>0</td>\n",
              "      <td>2.297466</td>\n",
              "      <td>11.486667</td>\n",
              "      <td>1.415517</td>\n",
              "    </tr>\n",
              "    <tr>\n",
              "      <th>1</th>\n",
              "      <td>100</td>\n",
              "      <td>0.425927</td>\n",
              "      <td>87.593333</td>\n",
              "      <td>1.379503</td>\n",
              "    </tr>\n",
              "    <tr>\n",
              "      <th>2</th>\n",
              "      <td>200</td>\n",
              "      <td>0.472074</td>\n",
              "      <td>85.461667</td>\n",
              "      <td>1.380728</td>\n",
              "    </tr>\n",
              "    <tr>\n",
              "      <th>3</th>\n",
              "      <td>300</td>\n",
              "      <td>0.270926</td>\n",
              "      <td>91.891667</td>\n",
              "      <td>1.392683</td>\n",
              "    </tr>\n",
              "    <tr>\n",
              "      <th>4</th>\n",
              "      <td>400</td>\n",
              "      <td>0.231747</td>\n",
              "      <td>92.860000</td>\n",
              "      <td>1.393393</td>\n",
              "    </tr>\n",
              "    <tr>\n",
              "      <th>...</th>\n",
              "      <td>...</td>\n",
              "      <td>...</td>\n",
              "      <td>...</td>\n",
              "      <td>...</td>\n",
              "    </tr>\n",
              "    <tr>\n",
              "      <th>173</th>\n",
              "      <td>17300</td>\n",
              "      <td>0.001323</td>\n",
              "      <td>99.996667</td>\n",
              "      <td>1.412440</td>\n",
              "    </tr>\n",
              "    <tr>\n",
              "      <th>174</th>\n",
              "      <td>17400</td>\n",
              "      <td>0.001262</td>\n",
              "      <td>99.995000</td>\n",
              "      <td>1.397415</td>\n",
              "    </tr>\n",
              "    <tr>\n",
              "      <th>175</th>\n",
              "      <td>17500</td>\n",
              "      <td>0.001631</td>\n",
              "      <td>99.988333</td>\n",
              "      <td>1.415372</td>\n",
              "    </tr>\n",
              "    <tr>\n",
              "      <th>176</th>\n",
              "      <td>17600</td>\n",
              "      <td>0.000996</td>\n",
              "      <td>100.000000</td>\n",
              "      <td>1.372980</td>\n",
              "    </tr>\n",
              "    <tr>\n",
              "      <th>177</th>\n",
              "      <td>17601</td>\n",
              "      <td>0.001010</td>\n",
              "      <td>99.998333</td>\n",
              "      <td>1.375944</td>\n",
              "    </tr>\n",
              "  </tbody>\n",
              "</table>\n",
              "<p>178 rows × 4 columns</p>\n",
              "</div>"
            ],
            "text/plain": [
              "         0         1           2         3\n",
              "0        0  2.297466   11.486667  1.415517\n",
              "1      100  0.425927   87.593333  1.379503\n",
              "2      200  0.472074   85.461667  1.380728\n",
              "3      300  0.270926   91.891667  1.392683\n",
              "4      400  0.231747   92.860000  1.393393\n",
              "..     ...       ...         ...       ...\n",
              "173  17300  0.001323   99.996667  1.412440\n",
              "174  17400  0.001262   99.995000  1.397415\n",
              "175  17500  0.001631   99.988333  1.415372\n",
              "176  17600  0.000996  100.000000  1.372980\n",
              "177  17601  0.001010   99.998333  1.375944\n",
              "\n",
              "[178 rows x 4 columns]"
            ]
          },
          "metadata": {
            "tags": []
          },
          "execution_count": 27
        }
      ]
    },
    {
      "cell_type": "code",
      "metadata": {
        "id": "10qpF_l0NHWf",
        "colab_type": "code",
        "outputId": "4d822f7e-98f9-4df9-ad28-bb49d567d63f",
        "colab": {
          "base_uri": "https://localhost:8080/",
          "height": 316
        }
      },
      "source": [
        "plt.figure()\n",
        "plt.plot(dfa[0], dfa[1])\n",
        "ax = plt.gca()\n",
        "# Set x logaritmic\n",
        "ax.set_xscale('log')\n",
        "#ax.set(xlim=(10,17600))\n",
        "plt.xlabel('Iterations')\n",
        "plt.ylabel('Estimated a')\n",
        "plt.title('title')"
      ],
      "execution_count": 34,
      "outputs": [
        {
          "output_type": "execute_result",
          "data": {
            "text/plain": [
              "Text(0.5, 1.0, 'title')"
            ]
          },
          "metadata": {
            "tags": []
          },
          "execution_count": 34
        },
        {
          "output_type": "display_data",
          "data": {
            "image/png": "[encoded data removed]",
            "text/plain": [
              "<Figure size 432x288 with 1 Axes>"
            ]
          },
          "metadata": {
            "tags": [],
            "needs_background": "light"
          }
        }
      ]
    },
    {
      "cell_type": "code",
      "metadata": {
        "id": "UAzEbjQyNR9T",
        "colab_type": "code",
        "colab": {}
      },
      "source": [
        ""
      ],
      "execution_count": 0,
      "outputs": []
    },
    {
      "cell_type": "code",
      "metadata": {
        "id": "0aB3_OC0SfRq",
        "colab_type": "code",
        "colab": {}
      },
      "source": [
        ""
      ],
      "execution_count": 0,
      "outputs": []
    },
    {
      "cell_type": "code",
      "metadata": {
        "id": "30kxUncMSpiP",
        "colab_type": "code",
        "colab": {}
      },
      "source": [
        ""
      ],
      "execution_count": 0,
      "outputs": []
    },
    {
      "cell_type": "code",
      "metadata": {
        "id": "ZND2nF5iTi-W",
        "colab_type": "code",
        "colab": {}
      },
      "source": [
        ""
      ],
      "execution_count": 0,
      "outputs": []
    }
  ]
}